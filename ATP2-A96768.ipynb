{
 "cells": [
  {
   "cell_type": "markdown",
   "metadata": {},
   "source": [
    "# ATP-A96768\n"
   ]
  },
  {
   "cell_type": "markdown",
   "metadata": {},
   "source": [
    "---------------"
   ]
  },
  {
   "cell_type": "markdown",
   "metadata": {},
   "source": [
    "#### **Identificador:** TPC2\n",
    "#### **Título:** \"Descobre o número!\"\n",
    "#### **Data de início:** 2021/10/16\n",
    "#### **Data de fim:** 2021/10/18\n",
    "#### **Supervisor:** José Carlos Ramalho\n",
    "#### **Autor:** Daniela Longras, a96768"
   ]
  },
  {
   "cell_type": "markdown",
   "metadata": {},
   "source": [
    "#### Resumo:\n",
    "O trabalho apresentado pretende resolver o problema proposto para TPC. O jogo de descobrir um número pensado pelo utilizador.\n",
    "A ideia baseia-se em ir divindo a metade o intervalo que vamos obtendo com as pistas dadas pelo utilizador.\n",
    "O primeiro intervalo é sempre de 1 a 100, por isso, na primeira tentativa o computador perguntará se é 50.\n",
    "Caso o valor na seja 50 o computador pergunta ao utilizador se o número é superior ou inferior a 50, para podermos obter um novo intervalo de valores onde sabemos que o número estará contido.\n",
    "De seguida voltamos a fazer o mesmo raciocínio, dividindo o novo intervalo obtido em 2 e sugerindo ao utilizador o número intermédio do intervalo.\n",
    "O programa irá percorrer este cíclo até que o valor pensado seja descoberto."
   ]
  },
  {
   "cell_type": "markdown",
   "metadata": {},
   "source": [
    "-----------"
   ]
  },
  {
   "cell_type": "code",
   "execution_count": null,
   "metadata": {
    "collapsed": true,
    "jupyter": {
     "outputs_hidden": true
    }
   },
   "outputs": [
    {
     "name": "stdout",
     "output_type": "stream",
     "text": [
      "Pense num número de 1 a 100.\n",
      "O número é 50 ?\n"
     ]
    }
   ],
   "source": [
    "def numero():\n",
    "    print(\"Pense num número de 1 a 100.\")\n",
    "    n = 50\n",
    "    nn = int(n//2)\n",
    "    print(\"O número é\", n, \"?\")\n",
    "    resultado = input(\"Escreva sim ou não.\")\n",
    "    while (resultado == \"não\"):\n",
    "        print(\"O número é\", n, \"?\")\n",
    "        resultado = input(\"Escreva sim ou não.\")\n",
    "        if (resultado == \"não\"):\n",
    "            resultado2 = input(\"Está a cima ou a baixo de {}?\".format(n))\n",
    "            if (resultado2 == \"a cima\"): \n",
    "                n = n + nn\n",
    "                nn = nn//2\n",
    "            else:\n",
    "                n = n - nn\n",
    "    print(\"Ganhanhei!\")\n",
    "        \n",
    "            \n",
    "numero()"
   ]
  }
 ],
 "metadata": {
  "kernelspec": {
   "display_name": "Python 3",
   "language": "python",
   "name": "python3"
  },
  "language_info": {
   "codemirror_mode": {
    "name": "ipython",
    "version": 3
   },
   "file_extension": ".py",
   "mimetype": "text/x-python",
   "name": "python",
   "nbconvert_exporter": "python",
   "pygments_lexer": "ipython3",
   "version": "3.8.3"
  }
 },
 "nbformat": 4,
 "nbformat_minor": 4
}
